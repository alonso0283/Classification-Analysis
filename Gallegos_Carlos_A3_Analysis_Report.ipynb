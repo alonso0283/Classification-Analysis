{
 "cells": [
  {
   "cell_type": "code",
   "execution_count": 1,
   "id": "olive-ceremony",
   "metadata": {
    "cell_style": "split",
    "code_folding": [
     0
    ],
    "collapsed": true
   },
   "outputs": [],
   "source": [
    "# importing libraries\n",
    "import numpy  as np\n",
    "import random            as rand                     # random number gen\n",
    "import pandas            as pd                       # data science essentials\n",
    "import matplotlib.pyplot as plt                      # data visualization\n",
    "import seaborn           as sns                      # enhanced data viz\n",
    "from sklearn.model_selection import train_test_split # train-test split\n",
    "from sklearn.linear_model import LogisticRegression  # logistic regression\n",
    "import statsmodels.formula.api as smf                # logistic regression\n",
    "from sklearn.metrics import confusion_matrix         # confusion matrix\n",
    "from sklearn.metrics import roc_auc_score            # auc score\n",
    "from sklearn.neighbors import KNeighborsClassifier   # KNN for classification\n",
    "from sklearn.neighbors import KNeighborsRegressor    # KNN for regression\n",
    "from sklearn.preprocessing import StandardScaler     # standard scaler\n",
    "from sklearn.linear_model import LinearRegression\n",
    "\n",
    "\n",
    "# libraries for classification trees\n",
    "from sklearn.tree import DecisionTreeClassifier      # classification trees\n",
    "from sklearn.tree import export_graphviz             # exports graphics\n",
    "from six import StringIO           # saves objects in memory\n",
    "from IPython.display import Image                    # displays on frontend\n",
    "import pydotplus                                     # interprets dot objects\n",
    "\n",
    "# new packages\n",
    "from sklearn.model_selection import RandomizedSearchCV     # hyperparameter tuning\n",
    "from sklearn.metrics import make_scorer              # customizable scorer\n",
    "from sklearn.ensemble import RandomForestClassifier     # random forest\n",
    "from sklearn.ensemble import GradientBoostingClassifier # gbm\n",
    "# setting pandas print options\n",
    "pd.set_option('display.max_rows', 500)\n",
    "pd.set_option('display.max_columns', 500)\n",
    "pd.set_option('display.width', 10000)\n",
    "\n"
   ]
  },
  {
   "cell_type": "code",
   "execution_count": 2,
   "id": "major-albany",
   "metadata": {
    "cell_style": "split",
    "code_folding": [
     0
    ],
    "collapsed": true
   },
   "outputs": [],
   "source": [
    "# plot_feature_importances\n",
    "########################################\n",
    "def plot_feature_importances(model, train, export = False):\n",
    "    \"\"\"\n",
    "    Plots the importance of features from a CART model.\n",
    "    \n",
    "    PARAMETERS\n",
    "    ----------\n",
    "    model  : CART model\n",
    "    train  : explanatory variable training data\n",
    "    export : whether or not to export as a .png image, default False\n",
    "    \"\"\"\n",
    "    \n",
    "    # declaring the number\n",
    "    n_features = train.shape[1]\n",
    "    \n",
    "    # setting plot window\n",
    "    fig, ax = plt.subplots(figsize=(12,9))\n",
    "    \n",
    "    plt.barh(range(n_features), model.feature_importances_, align='center')\n",
    "    plt.yticks(pd.np.arange(n_features), train.columns)\n",
    "    plt.xlabel(\"Feature importance\")\n",
    "    plt.ylabel(\"Feature\")\n",
    "    \n",
    "    if export == True:\n",
    "        plt.savefig('./analysis_images/Feature_Importance.png')\n",
    "\n",
    "########################################\n",
    "# visual_cm\n",
    "########################################\n",
    "def visual_cm(true_y, pred_y, labels = None):\n",
    "    \"\"\"\n",
    "Creates a visualization of a confusion matrix.\n",
    "\n",
    "PARAMETERS\n",
    "----------\n",
    "true_y : true values for the response variable\n",
    "pred_y : predicted values for the response variable\n",
    "labels : , default None\n",
    "    \"\"\"\n",
    "    # visualizing the confusion matrix\n",
    "\n",
    "    # setting labels\n",
    "    lbls = labels\n",
    "    \n",
    "\n",
    "    # declaring a confusion matrix object\n",
    "    cm = confusion_matrix(y_true = true_y,\n",
    "                          y_pred = pred_y)\n",
    "\n",
    "\n",
    "    # heatmap\n",
    "    sns.heatmap(cm,\n",
    "                annot       = True,\n",
    "                xticklabels = lbls,\n",
    "                yticklabels = lbls,\n",
    "                cmap        = 'Blues',\n",
    "                fmt         = 'g')\n",
    "\n",
    "\n",
    "    plt.xlabel('Predicted')\n",
    "    plt.ylabel('Actual')\n",
    "    plt.title('Confusion Matrix of the Classifier')\n",
    "    plt.show()"
   ]
  },
  {
   "cell_type": "markdown",
   "id": "spiritual-retention",
   "metadata": {},
   "source": [
    "<b>Apprentice Chef | Analysis Report to Management</b>\n",
    " \n",
    " **Author: Carlos Gallegos**\n",
    "<hr style=\"height:.9px;border:none;color:#333;background-color:#333;\" />\n",
    "<hr style=\"height:.9px;border:none;color:#333;background-color:#333;\" />\n"
   ]
  },
  {
   "cell_type": "markdown",
   "id": "mental-preparation",
   "metadata": {},
   "source": [
    "<h2>Presenting the Problem</h2><br>\n",
    "\n",
    "The manging team presented  two main business questions:\n",
    "\n",
    "* Forecast on  future revenue base on user characteristics\n",
    "* Classify the probability of a customer to accept the cross-selling offer:half-bottle of wine\n",
    "\n",
    "    "
   ]
  },
  {
   "cell_type": "markdown",
   "id": "raising-modem",
   "metadata": {},
   "source": [
    "\n",
    "<h2>Initial Exploration of the Dataset</h2><br>\n",
    "We started  exploring the information present on the dataset like \n",
    "null values, outliers, or any other information affecting the data\n"
   ]
  },
  {
   "cell_type": "code",
   "execution_count": 3,
   "id": "governing-tobacco",
   "metadata": {
    "cell_style": "split",
    "collapsed": true
   },
   "outputs": [],
   "source": [
    "\n",
    "# specifying file name\n",
    "file = './Apprentice_Chef_Dataset.xlsx'\n",
    "\n",
    "\n",
    "# reading the file into Python\n",
    "apprentice_chef = pd.read_excel(file)"
   ]
  },
  {
   "cell_type": "code",
   "execution_count": 4,
   "id": "romance-cornell",
   "metadata": {
    "code_folding": [
     0
    ]
   },
   "outputs": [
    {
     "name": "stdout",
     "output_type": "stream",
     "text": [
      "\n",
      "Size of Dataset\n",
      "------------------------\n",
      "Observations: 1946\n",
      "Features:     28\n",
      "\n"
     ]
    }
   ],
   "source": [
    "# formatting and printing the dimensions of the dataset\n",
    "print(f\"\"\"\n",
    "Size of Dataset\n",
    "------------------------\n",
    "Observations: {apprentice_chef.shape[0]}\n",
    "Features:     {apprentice_chef.shape[1]}\n",
    "\"\"\")\n"
   ]
  },
  {
   "cell_type": "markdown",
   "id": "perfect-danger",
   "metadata": {},
   "source": [
    "\n",
    "\n",
    "\n",
    "<hr style=\"height:.9px;border:none;color:#333;background-color:#333;\" />"
   ]
  },
  {
   "cell_type": "markdown",
   "id": "acknowledged-gregory",
   "metadata": {},
   "source": [
    "<h2>Part 1: Regression Model for Revenue </h2><br>\n",
    "\n"
   ]
  },
  {
   "cell_type": "markdown",
   "id": "moral-partnership",
   "metadata": {},
   "source": [
    "Our Goal here is to predict the future revenue a potential client will generate after a year. A regression model allow to generate a forecast base on different variables. To generate an accurate value we start by setting our target or y-value :Revenue "
   ]
  },
  {
   "cell_type": "code",
   "execution_count": 5,
   "id": "ranking-villa",
   "metadata": {
    "code_folding": [
     0,
     1
    ]
   },
   "outputs": [
    {
     "data": {
      "image/png": "[encoded data removed]",
      "text/plain": [
       "<Figure size 720x360 with 1 Axes>"
      ]
     },
     "metadata": {
      "needs_background": "light"
     },
     "output_type": "display_data"
    },
    {
     "name": "stdout",
     "output_type": "stream",
     "text": [
      "Revenue Median :1740.0\n",
      "The distribution of revenue is skewed to the left wirh a median of 1740 USD, to eliminate the skewness we apply a log transformation\n"
     ]
    }
   ],
   "source": [
    "# Develop a histogram to analyze the distribution of the Y-variable.\n",
    "sns.displot(data   = apprentice_chef,\n",
    "            x      = 'REVENUE',\n",
    "            height = 5,\n",
    "            aspect = 2)\n",
    "\n",
    "\n",
    "\n",
    "plt.title(label   = \"Original Distribution of Apprentice Chef Revenue\")\n",
    "plt.xlabel(xlabel = \"Revenue\") # avoiding using dataset labels\n",
    "plt.ylabel(ylabel = \"Count\")\n",
    "\n",
    "# displaying the histogram\n",
    "plt.show()\n",
    "\n",
    "print(f\"\"\"Revenue Median :{apprentice_chef['REVENUE'].median()}\n",
    "The distribution of revenue is skewed to the left wirh a median of 1740 USD, to eliminate the skewness we apply a log transformation\"\"\")"
   ]
  },
  {
   "cell_type": "code",
   "execution_count": 6,
   "id": "straight-toilet",
   "metadata": {
    "code_folding": [
     0
    ]
   },
   "outputs": [
    {
     "data": {
      "image/png": "[encoded data removed]",
      "text/plain": [
       "<Figure size 720x360 with 1 Axes>"
      ]
     },
     "metadata": {
      "needs_background": "light"
     },
     "output_type": "display_data"
    },
    {
     "name": "stdout",
     "output_type": "stream",
     "text": [
      " The distrubution is more similar to a normal distribution after the transformation\n",
      " \n",
      " Median= 3.25\n"
     ]
    }
   ],
   "source": [
    "# Develop a histogram to analyze the distribution of the Y-variable. We Applied LOG because it is skew to the left\n",
    "\n",
    "apprentice_chef['log_REVENUE'] = np.log10(apprentice_chef['REVENUE'])\n",
    "\n",
    "sns.displot(data   = apprentice_chef,\n",
    "            x      = 'log_REVENUE',\n",
    "            height = 5,\n",
    "            aspect = 2)\n",
    "\n",
    "\n",
    "\n",
    "plt.title(label   = \"Log Distribution of Apprentice Chef Revenue\")\n",
    "plt.xlabel(xlabel = \"Revenue\") # avoiding using dataset labels\n",
    "plt.ylabel(ylabel = \"Count\")\n",
    "\n",
    "# displaying the histogram\n",
    "plt.show()\n",
    "\n",
    "print(f\"\"\" The distrubution is more similar to a normal distribution after the transformation\n",
    " \n",
    " Median= 3.25\"\"\")"
   ]
  },
  {
   "cell_type": "code",
   "execution_count": 7,
   "id": "proper-livestock",
   "metadata": {
    "cell_style": "split",
    "code_folding": [
     0
    ],
    "collapsed": true
   },
   "outputs": [],
   "source": [
    "# STEP 1: splitting personal emails\n",
    "\n",
    "# placeholder list\n",
    "placeholder_lst = []\n",
    "\n",
    "# looping over each email address\n",
    "for index, col in apprentice_chef.iterrows():\n",
    "    \n",
    "    # splitting email domain at '@'\n",
    "    split_email = apprentice_chef.loc[index, 'EMAIL'].split(sep = '@')\n",
    "    \n",
    "    # appending placeholder_lst with the results\n",
    "    placeholder_lst.append(split_email)\n",
    "    \n",
    "\n",
    "# converting placeholder_lst into a DataFrame \n",
    "email_df = pd.DataFrame(placeholder_lst)\n",
    "\n",
    "\n",
    "# displaying the results\n",
    "email_df\n",
    "#changing names\n",
    "email_df.columns = ['0' , 'email_domain']\n",
    "\n",
    "# email domain types\n",
    "personal_email_domains = ['gmail.com', 'yahoo.com','protonmail.com' ]\n",
    "junk_email_domains=['msn.com','aol.com','hotmail.com','live.com']\n",
    "\n",
    "# placeholder list\n",
    "placeholder_lst = []\n",
    "\n",
    "\n",
    "# looping to group observations by domain type\n",
    "for domain in email_df['email_domain']:\n",
    "    \n",
    "    if  domain in personal_email_domains:\n",
    "        placeholder_lst.append('personal')\n",
    "    \n",
    "    elif domain in junk_email_domains:\n",
    "        placeholder_lst.append('junk')    \n",
    "\n",
    "    else:\n",
    "        placeholder_lst.append('professional')\n",
    "\n",
    "# concatenating with original DataFrame\n",
    "email_df['domain_group'] = pd.Series(placeholder_lst)\n",
    "\n",
    "\n",
    "# checking results\n",
    "email_df['domain_group'].value_counts()\n",
    "\n",
    "TYPE_MAIL=email_df['domain_group']\n",
    "apprentice_chef=apprentice_chef.join(TYPE_MAIL)\n",
    "apprentice_chef = apprentice_chef.rename(columns={'domain_group': 'TYPE_MAIL'})"
   ]
  },
  {
   "cell_type": "code",
   "execution_count": 8,
   "id": "extensive-fantasy",
   "metadata": {
    "cell_style": "split",
    "code_folding": [
     0
    ],
    "collapsed": true
   },
   "outputs": [],
   "source": [
    "#CREATING NEW FLAG COLUMN AVERAGE ORDER SIZE TO CLASSIFIY: SMALL, MEDIUM, LARGE \n",
    "#RENAMING LABEL LARGE FOR AVERAGE\n",
    "apprentice_chef = apprentice_chef.rename(columns={'LARGEST_ORDER_SIZE': 'AVERAGE_ORDER_SIZE'}) \n",
    "apprentice_chef['AVERAGE_ORDER_SIZE'].value_counts()\n",
    "\n",
    "\n",
    "apprentice_chef['ORDER_SIZE']     = 0\n",
    "\n",
    "for index, value in apprentice_chef.iterrows():\n",
    "    \n",
    "    # Total_Photos Viewed\n",
    "    if (apprentice_chef.loc[index, 'AVERAGE_ORDER_SIZE'] > 0) and (apprentice_chef.loc[index, 'AVERAGE_ORDER_SIZE'] <4):\n",
    "        apprentice_chef.loc[index, 'ORDER_SIZE'] = 'SMALL'\n",
    "    elif (apprentice_chef.loc[index, 'AVERAGE_ORDER_SIZE'] > 4) and (apprentice_chef.loc[index, 'AVERAGE_ORDER_SIZE']<7):\n",
    "        apprentice_chef.loc[index, 'ORDER_SIZE'] = 'MEDIUM'\n",
    "    else:\n",
    "         apprentice_chef.loc[index, 'ORDER_SIZE'] = 'LARGE'"
   ]
  },
  {
   "cell_type": "code",
   "execution_count": 9,
   "id": "preceding-nylon",
   "metadata": {
    "cell_style": "split",
    "code_folding": [
     0
    ],
    "collapsed": true
   },
   "outputs": [],
   "source": [
    "#CONVERTING variables with no zero values  to log \n",
    "\n",
    "apprentice_chef['log_TOTAL_MEALS_ORDERED'] = np.log10(apprentice_chef['TOTAL_MEALS_ORDERED'])\n",
    "apprentice_chef['log_AVG_PREP_VID_TIME'] = np.log10(apprentice_chef['AVG_PREP_VID_TIME'])\n",
    "apprentice_chef['log_AVG_TIME_PER_SITE_VISIT'] = np.log10(apprentice_chef['AVG_TIME_PER_SITE_VISIT'])\n",
    "apprentice_chef['log_UNIQUE_MEALS_PURCH'] = np.log10(apprentice_chef['UNIQUE_MEALS_PURCH'])\n",
    "apprentice_chef['log_AVG_CLICKS_PER_VISIT'] = np.log10(apprentice_chef['AVG_CLICKS_PER_VISIT'])\n",
    "apprentice_chef['log_CONTACTS_W_CUSTOMER_SERVICE'] = np.log10(apprentice_chef['CONTACTS_W_CUSTOMER_SERVICE'])\n",
    "apprentice_chef['log_MEDIAN_MEAL_RATING'] = np.log10(apprentice_chef['MEDIAN_MEAL_RATING'])\n",
    "apprentice_chef['log_PRODUCT_CATEGORIES_VIEWED'] = np.log10(apprentice_chef['PRODUCT_CATEGORIES_VIEWED'])\n",
    "apprentice_chef['log_AVERAGE_ORDER_SIZE'] = np.log10(apprentice_chef['AVERAGE_ORDER_SIZE'])\n",
    "\n"
   ]
  },
  {
   "cell_type": "code",
   "execution_count": 10,
   "id": "experienced-induction",
   "metadata": {
    "cell_style": "split",
    "code_folding": [
     0
    ],
    "collapsed": true
   },
   "outputs": [],
   "source": [
    "# dummy variable for viewing photos and weekly plan\n",
    "apprentice_chef['PHOTO_VIEWED']      = 0\n",
    "apprentice_chef['WITH_WEEKLY_PLAN']     = 0\n",
    "\n",
    "for index, value in apprentice_chef.iterrows():\n",
    "    \n",
    "    # Total_Photos Viewed\n",
    "    if apprentice_chef.loc[index, 'TOTAL_PHOTOS_VIEWED'] > 0:\n",
    "        apprentice_chef.loc[index, 'PHOTO_VIEWED'] = 1\n",
    "    \n",
    "    if apprentice_chef.loc[index, 'TOTAL_PHOTOS_VIEWED'] > 0:\n",
    "        apprentice_chef.loc[index, 'WITH_WEEKLY_PLAN'] = 1\n",
    "        \n",
    "#creating two variables by adding cancelations before and after noon  as total cancelations\n",
    "#creating variables adding mobiles and pc logins as total logins\n",
    "\n",
    "# total cancellations\n",
    "apprentice_chef['TOTAL_CANCELATIONS'] = apprentice_chef['CANCELLATIONS_BEFORE_NOON'] + apprentice_chef['CANCELLATIONS_AFTER_NOON'] \n",
    "\n",
    "#TOTAL LOGINS\n",
    "apprentice_chef['TOTAL_LOGINS'] = apprentice_chef['PC_LOGINS'] + apprentice_chef['MOBILE_LOGINS'] \n",
    "\n"
   ]
  },
  {
   "cell_type": "code",
   "execution_count": 11,
   "id": "above-treasury",
   "metadata": {
    "code_folding": [
     0
    ],
    "collapsed": true
   },
   "outputs": [],
   "source": [
    "# one hot encoding categorical variables : type mail, gender and order size \n",
    "one_hot_TYPE_MAIL       = pd.get_dummies(apprentice_chef['TYPE_MAIL'])\n",
    "#one_hot_GENDER       = pd.get_dummies(apprentice_chef['GENDER'])\n",
    "one_hot_SIZE       = pd.get_dummies(apprentice_chef['ORDER_SIZE'])\n",
    "# dropping categorical variables after they've been encoded\n",
    "apprentice_chef = apprentice_chef.drop('TYPE_MAIL', axis = 1)\n",
    "#apprentice_chef = apprentice_chef.drop('GENDER', axis = 1)\n",
    "apprentice_chef = apprentice_chef.drop('ORDER_SIZE', axis = 1)\n",
    "# joining codings together\n",
    "apprentice_chef = apprentice_chef.join([one_hot_TYPE_MAIL])\n",
    "#apprentice_chef = apprentice_chef.join([one_hot_GENDER])\n",
    "apprentice_chef = apprentice_chef.join([one_hot_SIZE])\n"
   ]
  },
  {
   "cell_type": "markdown",
   "id": "great-characterization",
   "metadata": {},
   "source": [
    "<h3>Selecting the Features for the model</h3><br>\n",
    "\n",
    "* We select  variables for the model  using : correlation and P-values "
   ]
  },
  {
   "cell_type": "code",
   "execution_count": 12,
   "id": "innocent-negative",
   "metadata": {
    "code_folding": [
     0
    ]
   },
   "outputs": [
    {
     "name": "stdout",
     "output_type": "stream",
     "text": [
      "log_REVENUE                        1.00\n",
      "log_TOTAL_MEALS_ORDERED            0.69\n",
      "log_AVG_PREP_VID_TIME              0.67\n",
      "log_MEDIAN_MEAL_RATING             0.61\n",
      "MASTER_CLASSES_ATTENDED            0.47\n",
      "log_AVERAGE_ORDER_SIZE             0.45\n",
      "TOTAL_PHOTOS_VIEWED                0.43\n",
      "WITH_WEEKLY_PLAN                   0.39\n",
      "PHOTO_VIEWED                       0.39\n",
      "MEDIUM                             0.26\n",
      "log_AVG_TIME_PER_SITE_VISIT        0.15\n",
      "LARGE                              0.07\n",
      "log_CONTACTS_W_CUSTOMER_SERVICE    0.05\n",
      "MOBILE_NUMBER                      0.04\n",
      "personal                           0.01\n",
      "log_PRODUCT_CATEGORIES_VIEWED      0.01\n",
      "CROSS_SELL_SUCCESS                 0.01\n",
      "PC_LOGINS                          0.01\n",
      "TASTES_AND_PREFERENCES             0.01\n",
      "CANCELLATIONS_BEFORE_NOON          0.01\n",
      "TOTAL_CANCELATIONS                -0.00\n",
      "TOTAL_LOGINS                       0.00\n",
      "professional                       0.00\n",
      "REFRIGERATED_LOCKER               -0.01\n",
      "EARLY_DELIVERIES                  -0.01\n",
      "MOBILE_LOGINS                     -0.01\n",
      "PACKAGE_LOCKER                    -0.02\n",
      "LATE_DELIVERIES                   -0.02\n",
      "junk                              -0.02\n",
      "CANCELLATIONS_AFTER_NOON          -0.04\n",
      "log_UNIQUE_MEALS_PURCH            -0.13\n",
      "SMALL                             -0.35\n",
      "log_AVG_CLICKS_PER_VISIT          -0.58\n",
      "Name: log_REVENUE, dtype: float64\n"
     ]
    }
   ],
   "source": [
    "# making a correlation list on Revenue and our X Variables \n",
    "df_model =apprentice_chef.copy()\n",
    "\n",
    "\n",
    "# dropping SalePrice and Order from the explanatory variable set\n",
    "df_model_LOG = df_model.drop(['NAME', 'EMAIL', 'FIRST_NAME', 'FAMILY_NAME','CONTACTS_W_CUSTOMER_SERVICE',\n",
    "                          'PRODUCT_CATEGORIES_VIEWED','AVG_TIME_PER_SITE_VISIT',                   \n",
    "                         'WEEKLY_PLAN',  'MEDIAN_MEAL_RATING','REVENUE',\n",
    "                         'AVG_CLICKS_PER_VISIT','AVERAGE_ORDER_SIZE','UNIQUE_MEALS_PURCH','CONTACTS_W_CUSTOMER_SERVICE',  \n",
    "                         'TOTAL_MEALS_ORDERED','MEDIAN_MEAL_RATING','AVG_PREP_VID_TIME' \n",
    "                             ], axis = 1)\n",
    "\n",
    "# creating a (Pearson) correlation matrix on our first model \n",
    "df_corr = df_model_LOG.corr().round(2)\n",
    "\n",
    "\n",
    "# printing (Pearson) correlations with SalePrice\n",
    "print(df_corr.loc['log_REVENUE'].sort_values(ascending = False))\n",
    "\n"
   ]
  },
  {
   "cell_type": "markdown",
   "id": "soviet-livestock",
   "metadata": {},
   "source": [
    "* Correlation indicates which variables are more likely to affect the result. Total Meals ordered is the variable with the most influence on o revenue,  since when  value increases, our income will do too.\n",
    "\n",
    "\n",
    "* Number of unique meals sets by the customer negatively affects our revenue; perhaps most of our customers made only one purchase per month, exploring a new menu each time. Not recurrent customers.\n"
   ]
  },
  {
   "cell_type": "markdown",
   "id": "important-sydney",
   "metadata": {},
   "source": [
    "<h3>Creating a  regression model</h3><br>\n",
    "\n",
    "* We generate a regression model to examine the p-values, indicates if the variable is significant, a value too high(over 0.05) means  it  is not statistically significant  and we  discard it, this benefits the final model. "
   ]
  },
  {
   "cell_type": "code",
   "execution_count": 13,
   "id": "current-class",
   "metadata": {
    "cell_style": "center"
   },
   "outputs": [
    {
     "name": "stdout",
     "output_type": "stream",
     "text": [
      "                            OLS Regression Results                            \n",
      "==============================================================================\n",
      "Dep. Variable:            log_REVENUE   R-squared:                       0.725\n",
      "Model:                            OLS   Adj. R-squared:                  0.722\n",
      "Method:                 Least Squares   F-statistic:                     187.7\n",
      "Date:                Mon, 15 Feb 2021   Prob (F-statistic):               0.00\n",
      "Time:                        17:23:09   Log-Likelihood:                 1517.2\n",
      "No. Observations:                1946   AIC:                            -2978.\n",
      "Df Residuals:                    1918   BIC:                            -2822.\n",
      "Df Model:                          27                                         \n",
      "Covariance Type:            nonrobust                                         \n",
      "===================================================================================================\n",
      "                                      coef    std err          t      P>|t|      [0.025      0.975]\n",
      "---------------------------------------------------------------------------------------------------\n",
      "Intercept                           1.1109      0.065     17.196      0.000       0.984       1.238\n",
      "CROSS_SELL_SUCCESS                 -0.0145      0.006     -2.492      0.013      -0.026      -0.003\n",
      "MOBILE_NUMBER                       0.0063      0.008      0.801      0.423      -0.009       0.022\n",
      "CANCELLATIONS_BEFORE_NOON           0.0044      0.002      1.928      0.054   -7.48e-05       0.009\n",
      "CANCELLATIONS_AFTER_NOON           -0.0076      0.004     -1.913      0.056      -0.015       0.000\n",
      "TASTES_AND_PREFERENCES              0.0114      0.006      2.011      0.044       0.000       0.022\n",
      "PC_LOGINS                           0.0006      0.003      0.184      0.854      -0.006       0.007\n",
      "MOBILE_LOGINS                      -0.0026      0.004     -0.733      0.463      -0.010       0.004\n",
      "EARLY_DELIVERIES                   -0.0007      0.001     -0.632      0.527      -0.003       0.001\n",
      "LATE_DELIVERIES                    -0.0002      0.001     -0.256      0.798      -0.002       0.002\n",
      "PACKAGE_LOCKER                     -0.0080      0.006     -1.313      0.189      -0.020       0.004\n",
      "REFRIGERATED_LOCKER                -0.0060      0.009     -0.652      0.515      -0.024       0.012\n",
      "MASTER_CLASSES_ATTENDED             0.0283      0.005      6.043      0.000       0.019       0.037\n",
      "TOTAL_PHOTOS_VIEWED               5.84e-05   2.08e-05      2.814      0.005    1.77e-05    9.91e-05\n",
      "log_TOTAL_MEALS_ORDERED             0.2645      0.011     23.789      0.000       0.243       0.286\n",
      "log_AVG_PREP_VID_TIME               0.5702      0.037     15.411      0.000       0.498       0.643\n",
      "log_AVG_TIME_PER_SITE_VISIT        -0.0202      0.013     -1.547      0.122      -0.046       0.005\n",
      "log_UNIQUE_MEALS_PURCH             -0.1583      0.010    -16.059      0.000      -0.178      -0.139\n",
      "PHOTO_VIEWED                        0.0106      0.004      2.847      0.004       0.003       0.018\n",
      "WITH_WEEKLY_PLAN                    0.0106      0.004      2.847      0.004       0.003       0.018\n",
      "TOTAL_CANCELATIONS                 -0.0032      0.002     -1.588      0.113      -0.007       0.001\n",
      "TOTAL_LOGINS                       -0.0020      0.002     -0.920      0.358      -0.006       0.002\n",
      "log_CONTACTS_W_CUSTOMER_SERVICE     0.1354      0.019      7.195      0.000       0.099       0.172\n",
      "log_MEDIAN_MEAL_RATING              0.2039      0.031      6.586      0.000       0.143       0.265\n",
      "log_AVERAGE_ORDER_SIZE             -0.1332      0.035     -3.855      0.000      -0.201      -0.065\n",
      "log_AVG_CLICKS_PER_VISIT           -0.2486      0.053     -4.698      0.000      -0.352      -0.145\n",
      "log_PRODUCT_CATEGORIES_VIEWED       0.0096      0.008      1.147      0.251      -0.007       0.026\n",
      "junk                                0.3661      0.022     16.400      0.000       0.322       0.410\n",
      "personal                            0.3746      0.022     17.152      0.000       0.332       0.417\n",
      "professional                        0.3702      0.022     17.073      0.000       0.328       0.413\n",
      "LARGE                               0.3710      0.022     16.728      0.000       0.327       0.414\n",
      "MEDIUM                              0.3691      0.023     16.308      0.000       0.325       0.413\n",
      "SMALL                               0.3709      0.022     17.185      0.000       0.329       0.413\n",
      "==============================================================================\n",
      "Omnibus:                      207.808   Durbin-Watson:                   2.061\n",
      "Prob(Omnibus):                  0.000   Jarque-Bera (JB):              790.835\n",
      "Skew:                          -0.475   Prob(JB):                    1.87e-172\n",
      "Kurtosis:                       5.975   Cond. No.                     1.17e+16\n",
      "==============================================================================\n",
      "\n",
      "Notes:\n",
      "[1] Standard Errors assume that the covariance matrix of the errors is correctly specified.\n",
      "[2] The smallest eigenvalue is 6.3e-25. This might indicate that there are\n",
      "strong multicollinearity problems or that the design matrix is singular.\n",
      "\n",
      "We examine the result of the regression, and select those variables with a p-value less than 0.05 to generate our OLS Model\n"
     ]
    }
   ],
   "source": [
    "\n",
    "# Step 1: build a REGRESSION MODEL\n",
    "lm_best = smf.ols(formula =  \"\"\"log_REVENUE ~ \n",
    "\n",
    "CROSS_SELL_SUCCESS +\n",
    "MOBILE_NUMBER +\n",
    "CANCELLATIONS_BEFORE_NOON +\n",
    "CANCELLATIONS_AFTER_NOON +\n",
    "TASTES_AND_PREFERENCES +\n",
    "PC_LOGINS +\n",
    "MOBILE_LOGINS +\n",
    "EARLY_DELIVERIES +\n",
    "LATE_DELIVERIES +\n",
    "PACKAGE_LOCKER +\n",
    "REFRIGERATED_LOCKER +\n",
    "MASTER_CLASSES_ATTENDED +\n",
    "TOTAL_PHOTOS_VIEWED +\n",
    "log_TOTAL_MEALS_ORDERED +\n",
    "log_AVG_PREP_VID_TIME +\n",
    "log_AVG_TIME_PER_SITE_VISIT +\n",
    "log_UNIQUE_MEALS_PURCH +\n",
    "PHOTO_VIEWED +\n",
    "WITH_WEEKLY_PLAN +\n",
    "TOTAL_CANCELATIONS +\n",
    "TOTAL_LOGINS +\n",
    "log_CONTACTS_W_CUSTOMER_SERVICE +\n",
    "log_MEDIAN_MEAL_RATING +\n",
    "log_AVERAGE_ORDER_SIZE +\n",
    "log_AVG_CLICKS_PER_VISIT +\n",
    "log_PRODUCT_CATEGORIES_VIEWED +\n",
    "junk +\n",
    "personal +\n",
    "professional +\n",
    "LARGE +\n",
    "MEDIUM +\n",
    "SMALL                            \"\"\",\n",
    "                                data = apprentice_chef)\n",
    "\n",
    "# Step 2: fit the model based on the data\n",
    "results = lm_best.fit()\n",
    "\n",
    "\n",
    "\n",
    "# Step 3: analyze the summary output\n",
    "print(results.summary())\n",
    "\n",
    "print(f\"\"\"\n",
    "We examine the result of the regression, and select those variables with a p-value less than 0.05 to generate our OLS Model\"\"\")"
   ]
  },
  {
   "cell_type": "code",
   "execution_count": 14,
   "id": "stretch-bradford",
   "metadata": {
    "code_folding": [
     0
    ],
    "collapsed": true
   },
   "outputs": [],
   "source": [
    "# RELABEL\n",
    "apprentice_chef = apprentice_chef.rename(columns={'CROSS_SELL_SUCCESS': 'CROSS SELL SUCCESS'})\n",
    "apprentice_chef = apprentice_chef.rename(columns={'TASTES_AND_PREFERENCES': 'TASTES AND PREFERENCES'})\n",
    "apprentice_chef = apprentice_chef.rename(columns={'MASTER_CLASSES_ATTENDED': 'MASTER CLASSES ATTENDED'})\n",
    "apprentice_chef = apprentice_chef.rename(columns={'log_TOTAL_MEALS_ORDERED': 'TOTAL MEALS ORDERED'})\n",
    "apprentice_chef = apprentice_chef.rename(columns={'log_AVG_PREP_VID_TIME': 'AVERAGE PREPARATION VIDEO TIME'})\n",
    "apprentice_chef = apprentice_chef.rename(columns={'log_UNIQUE_MEALS_PURCH': 'UNIQUE MEALS PURCHASE'})\n",
    "apprentice_chef = apprentice_chef.rename(columns={'WITH_WEEKLY_PLAN': 'WITH WEEKLY PLAN'})\n",
    "apprentice_chef = apprentice_chef.rename(columns={'log_AVG_TIME_PER_SITE_VISIT': 'AVERAGE TIME PER SITE VISIT'})\n",
    "apprentice_chef = apprentice_chef.rename(columns={'log_CONTACTS_W_CUSTOMER_SERVICE': 'CONTACTS WITH CUSTOMER SERVICE'})\n",
    "apprentice_chef = apprentice_chef.rename(columns={'log_MEDIAN_MEAL_RATING': 'MEDIAN MEAL RATING'})\n",
    "apprentice_chef = apprentice_chef.rename(columns={'log_AVERAGE_ORDER_SIZE': 'AVERAGE ORDER SIZE'})\n",
    "apprentice_chef = apprentice_chef.rename(columns={'log_PRODUCT_CATEGORIES_VIEWED': 'PRODUCT CATEGORIES VIEWED'})  \n",
    "apprentice_chef = apprentice_chef.rename(columns={'junk': 'JUNK MAIL'})                                                  \n",
    "apprentice_chef = apprentice_chef.rename(columns={'personal': 'PERSONAL MAIL'}) \n",
    "apprentice_chef = apprentice_chef.rename(columns={'professional': 'PROFESSIONAL MAIL'}) \n",
    "apprentice_chef = apprentice_chef.rename(columns={'LARGE': 'LARGE ORDER'})   \n",
    "apprentice_chef = apprentice_chef.rename(columns={'MEDIUM': 'MEDIUM ORDER'})   \n",
    "apprentice_chef = apprentice_chef.rename(columns={'SMALL': 'SMALL ORDER'})  \n",
    "apprentice_chef = apprentice_chef.rename(columns={'PHOTO_VIEWED': 'PHOTO VIEWED'})                                                    \n",
    "apprentice_chef = apprentice_chef.rename(columns={'MOBILE_NUMBER': 'MOBILE NUMBER'})   \n",
    "apprentice_chef = apprentice_chef.rename(columns={'CANCELLATIONS_BEFORE_NOON': 'CANCELLATIONS BEFORE NOON'})     \n",
    "apprentice_chef = apprentice_chef.rename(columns={ 'REFRIGERATED_LOCKER':  'REFRIGERATED LOCKER'})          \n",
    "apprentice_chef = apprentice_chef.rename(columns={'PC_LOGINS': 'PC USER LOGINS'})                      \n",
    "apprentice_chef = apprentice_chef.rename(columns={'EARLY_DELIVERIES': 'EARLY DELIVERIES'})                      \n",
    "                   \n",
    "                "
   ]
  },
  {
   "cell_type": "code",
   "execution_count": 15,
   "id": "through-diameter",
   "metadata": {
    "cell_style": "center",
    "code_folding": [
     0
    ]
   },
   "outputs": [
    {
     "name": "stdout",
     "output_type": "stream",
     "text": [
      "We choose the variables, with the following description \n"
     ]
    },
    {
     "data": {
      "text/html": [
       "<div>\n",
       "<style scoped>\n",
       "    .dataframe tbody tr th:only-of-type {\n",
       "        vertical-align: middle;\n",
       "    }\n",
       "\n",
       "    .dataframe tbody tr th {\n",
       "        vertical-align: top;\n",
       "    }\n",
       "\n",
       "    .dataframe thead th {\n",
       "        text-align: right;\n",
       "    }\n",
       "</style>\n",
       "<table border=\"1\" class=\"dataframe\">\n",
       "  <thead>\n",
       "    <tr style=\"text-align: right;\">\n",
       "      <th></th>\n",
       "      <th>Name</th>\n",
       "      <th>Description</th>\n",
       "    </tr>\n",
       "  </thead>\n",
       "  <tbody>\n",
       "    <tr>\n",
       "      <th>0</th>\n",
       "      <td>CROSS SELL SUCCESS</td>\n",
       "      <td>Success of the cross-sell promotion</td>\n",
       "    </tr>\n",
       "    <tr>\n",
       "      <th>1</th>\n",
       "      <td>TASTES AND PREFERENCES</td>\n",
       "      <td>Customer specified their tastes and preference</td>\n",
       "    </tr>\n",
       "    <tr>\n",
       "      <th>2</th>\n",
       "      <td>MASTER CLASSES ATTENDED</td>\n",
       "      <td>Number of times each customer attended a maste...</td>\n",
       "    </tr>\n",
       "    <tr>\n",
       "      <th>3</th>\n",
       "      <td>TOTAL MEALS ORDERED</td>\n",
       "      <td>Total number of meals ordered by each customer</td>\n",
       "    </tr>\n",
       "    <tr>\n",
       "      <th>4</th>\n",
       "      <td>AVERAGE PREPARATION VIDEO TIME</td>\n",
       "      <td>Average time in seconds meal preparation instr...</td>\n",
       "    </tr>\n",
       "    <tr>\n",
       "      <th>5</th>\n",
       "      <td>UNIQUE MEALS PURCHASE</td>\n",
       "      <td>Number of unique meal sets ordered by each cus...</td>\n",
       "    </tr>\n",
       "    <tr>\n",
       "      <th>6</th>\n",
       "      <td>PHOTO VIEWED</td>\n",
       "      <td>If the client viewed or not the photos catalog</td>\n",
       "    </tr>\n",
       "    <tr>\n",
       "      <th>7</th>\n",
       "      <td>WITH WEEKLY PLAN</td>\n",
       "      <td>If the customer has or no a weekly plan</td>\n",
       "    </tr>\n",
       "    <tr>\n",
       "      <th>8</th>\n",
       "      <td>AVERAGE TIME PER SITE VISIT</td>\n",
       "      <td>Average time each customer spent per website o...</td>\n",
       "    </tr>\n",
       "    <tr>\n",
       "      <th>9</th>\n",
       "      <td>CONTACTS WITH CUSTOMER SERVICE</td>\n",
       "      <td>Number of times each customer made contact wit...</td>\n",
       "    </tr>\n",
       "    <tr>\n",
       "      <th>10</th>\n",
       "      <td>MEDIAN MEAL RATING</td>\n",
       "      <td>Median rating of meal sets by each customer</td>\n",
       "    </tr>\n",
       "    <tr>\n",
       "      <th>11</th>\n",
       "      <td>AVERAGE ORDER SIZE</td>\n",
       "      <td>Median rating of meal sets by each customer</td>\n",
       "    </tr>\n",
       "    <tr>\n",
       "      <th>12</th>\n",
       "      <td>PRODUCT CATEGORIES VIEWED</td>\n",
       "      <td>Total number of meal categories viewed</td>\n",
       "    </tr>\n",
       "    <tr>\n",
       "      <th>13</th>\n",
       "      <td>JUNK MAIL</td>\n",
       "      <td>Register with s junk mail</td>\n",
       "    </tr>\n",
       "    <tr>\n",
       "      <th>14</th>\n",
       "      <td>PERSONAL MAIL</td>\n",
       "      <td>Register with a work mail</td>\n",
       "    </tr>\n",
       "    <tr>\n",
       "      <th>15</th>\n",
       "      <td>LARGE ORDER</td>\n",
       "      <td>Large average order</td>\n",
       "    </tr>\n",
       "    <tr>\n",
       "      <th>16</th>\n",
       "      <td>MEDIUM ORDER</td>\n",
       "      <td>Medium average order</td>\n",
       "    </tr>\n",
       "    <tr>\n",
       "      <th>17</th>\n",
       "      <td>SMALL ORDER</td>\n",
       "      <td>Small average order</td>\n",
       "    </tr>\n",
       "  </tbody>\n",
       "</table>\n",
       "</div>"
      ],
      "text/plain": [
       "                              Name                                        Description\n",
       "0               CROSS SELL SUCCESS                Success of the cross-sell promotion\n",
       "1           TASTES AND PREFERENCES     Customer specified their tastes and preference\n",
       "2          MASTER CLASSES ATTENDED  Number of times each customer attended a maste...\n",
       "3              TOTAL MEALS ORDERED     Total number of meals ordered by each customer\n",
       "4   AVERAGE PREPARATION VIDEO TIME  Average time in seconds meal preparation instr...\n",
       "5            UNIQUE MEALS PURCHASE  Number of unique meal sets ordered by each cus...\n",
       "6                     PHOTO VIEWED     If the client viewed or not the photos catalog\n",
       "7                 WITH WEEKLY PLAN            If the customer has or no a weekly plan\n",
       "8      AVERAGE TIME PER SITE VISIT  Average time each customer spent per website o...\n",
       "9   CONTACTS WITH CUSTOMER SERVICE  Number of times each customer made contact wit...\n",
       "10              MEDIAN MEAL RATING        Median rating of meal sets by each customer\n",
       "11              AVERAGE ORDER SIZE        Median rating of meal sets by each customer\n",
       "12       PRODUCT CATEGORIES VIEWED             Total number of meal categories viewed\n",
       "13                       JUNK MAIL                          Register with s junk mail\n",
       "14                   PERSONAL MAIL                          Register with a work mail\n",
       "15                     LARGE ORDER                                Large average order\n",
       "16                    MEDIUM ORDER                               Medium average order\n",
       "17                     SMALL ORDER                                Small average order"
      ]
     },
     "execution_count": 15,
     "metadata": {},
     "output_type": "execute_result"
    }
   ],
   "source": [
    "# creating a dictionary to store candidate models\n",
    "print(f\"We choose the variables, with the following description \")\n",
    "\n",
    "variables_dict = {\n",
    "  \n",
    "'Name'   : ['CROSS SELL SUCCESS',\n",
    "'TASTES AND PREFERENCES', \n",
    "'MASTER CLASSES ATTENDED', \n",
    "'TOTAL MEALS ORDERED', \n",
    "'AVERAGE PREPARATION VIDEO TIME', \n",
    "'UNIQUE MEALS PURCHASE', \n",
    "'PHOTO VIEWED', \n",
    "'WITH WEEKLY PLAN',\n",
    "'AVERAGE TIME PER SITE VISIT',\n",
    "'CONTACTS WITH CUSTOMER SERVICE', \n",
    "'MEDIAN MEAL RATING', \n",
    "'AVERAGE ORDER SIZE', \n",
    "'PRODUCT CATEGORIES VIEWED',\n",
    "'JUNK MAIL',            \n",
    "'PERSONAL MAIL',\n",
    "'LARGE ORDER',\n",
    "'MEDIUM ORDER' ,\n",
    "'SMALL ORDER'],\n",
    "\n",
    "'Description':[\n",
    "    \n",
    "'Success of the cross-sell promotion',\n",
    "'Customer specified their tastes and preference',\n",
    "'Number of times each customer attended a master class', \n",
    "'Total number of meals ordered by each customer',    \n",
    "'Average time in seconds meal preparation instruction',    \n",
    "'Number of unique meal sets ordered by each customer',  \n",
    "'If the client viewed or not the photos catalog',\n",
    "'If the customer has or no a weekly plan',    \n",
    "'Average time each customer spent per website or mobile app',   \n",
    "'Number of times each customer made contact with customer service',\n",
    "'Median rating of meal sets by each customer',    \n",
    "'Median rating of meal sets by each customer',   \n",
    "'Total number of meal categories viewed',  \n",
    "'Register with s junk mail',\n",
    "'Register with a work mail',   \n",
    "'Large average order',\n",
    "'Medium average order',    \n",
    "'Small average order'    \n",
    "    \n",
    "]}\n",
    " \n",
    "variables_dict  = pd.DataFrame(variables_dict)\n",
    "variables_dict"
   ]
  },
  {
   "cell_type": "markdown",
   "id": "familiar-terry",
   "metadata": {},
   "source": [
    "<h3>Creating an OLS model</h3><br>"
   ]
  },
  {
   "cell_type": "code",
   "execution_count": 16,
   "id": "charitable-plasma",
   "metadata": {
    "cell_style": "split",
    "collapsed": true
   },
   "outputs": [],
   "source": [
    "x_variables=['CROSS SELL SUCCESS',\n",
    "'TASTES AND PREFERENCES', \n",
    "'MASTER CLASSES ATTENDED', \n",
    "'TOTAL MEALS ORDERED', \n",
    "'AVERAGE PREPARATION VIDEO TIME', \n",
    "'UNIQUE MEALS PURCHASE', \n",
    "'PHOTO VIEWED', \n",
    "'WITH WEEKLY PLAN',\n",
    "'AVERAGE TIME PER SITE VISIT',\n",
    "'CONTACTS WITH CUSTOMER SERVICE', \n",
    "'MEDIAN MEAL RATING', \n",
    "'AVERAGE ORDER SIZE', \n",
    "'PRODUCT CATEGORIES VIEWED',\n",
    "'JUNK MAIL',            \n",
    "'PERSONAL MAIL',\n",
    "'LARGE ORDER',\n",
    "'MEDIUM ORDER' ,\n",
    "'SMALL ORDER']"
   ]
  },
  {
   "cell_type": "code",
   "execution_count": 17,
   "id": "educated-lemon",
   "metadata": {
    "cell_style": "split",
    "code_folding": [
     0
    ],
    "collapsed": true
   },
   "outputs": [],
   "source": [
    "# applying model in scikit-learn\n",
    "\n",
    "# Preparing a DataFrame based the the analysis above\n",
    "ols_data  = apprentice_chef.loc[ : ,x_variables]\n",
    "model_data   = apprentice_chef.drop(['log_REVENUE',\n",
    "                               'REVENUE',\n",
    "                               'NAME', 'EMAIL', 'FIRST_NAME', 'FAMILY_NAME'\n",
    "                               ],\n",
    "                                axis = 1)\n",
    "\n",
    "# Preparing the target variable\n",
    "Revenue_log_target = apprentice_chef.loc[ : ,'log_REVENUE']\n",
    "Revenue_target = apprentice_chef.loc[ : ,'REVENUE']\n",
    "\n",
    "###############################################\n",
    "## setting up more than one train-test split ##\n",
    "###############################################\n",
    "\n",
    "# FULL X-dataset (normal Y)\n",
    "x_train_FULL, x_test_FULL, y_train_FULL, y_test_FULL = train_test_split(\n",
    "            model_data,     # x-variables\n",
    "            Revenue_target,   # y-variable\n",
    "            test_size = 0.25,\n",
    "            random_state = 219)\n",
    "\n",
    "# OLS p-value x-dataset (normal Y)\n",
    "x_train_OLS, x_test_OLS, y_train_OLS, y_test_OLS = train_test_split(\n",
    "            ols_data,         # x-variables\n",
    "            Revenue_log_target,   # y-variable\n",
    "            test_size = 0.25,\n",
    "            random_state = 219)"
   ]
  },
  {
   "cell_type": "code",
   "execution_count": 18,
   "id": "unknown-exposure",
   "metadata": {
    "code_folding": [
     0
    ]
   },
   "outputs": [
    {
     "name": "stdout",
     "output_type": "stream",
     "text": [
      "OLS Training Score : 0.719\n",
      "OLS Testing Score  : 0.718\n",
      "OLS Train-Test Gap : 0.001\n",
      "\n",
      "*  The OLS model gets a  score of 0.72, and a train-test gap minor than 0.05 which indicates not over fitting for the model\n",
      "\n"
     ]
    }
   ],
   "source": [
    "# INSTANTIATING a model object\n",
    "lr = LinearRegression()\n",
    "\n",
    "\n",
    "# FITTING to the training data\n",
    "lr_fit = lr.fit(x_train_OLS, y_train_OLS)\n",
    "\n",
    "\n",
    "# PREDICTING on new data\n",
    "lr_pred = lr_fit.predict(x_test_OLS)\n",
    "\n",
    "\n",
    "# SCORING the results\n",
    "print('OLS Training Score :', lr.score(x_train_OLS, y_train_OLS).round(3))\n",
    "print('OLS Testing Score  :', lr.score(x_test_OLS, y_test_OLS).round(3))\n",
    "\n",
    "\n",
    "# saving scoring data for future use\n",
    "lr_train_score = lr.score(x_train_OLS, y_train_OLS).round(3) # using R-square\n",
    "lr_test_score  = lr.score(x_test_OLS, y_test_OLS).round(3)   # using R-square\n",
    "\n",
    "\n",
    "# displaying and saving the gap between training and testing\n",
    "print('OLS Train-Test Gap :', abs(lr_train_score - lr_test_score).round(3))\n",
    "lr_test_gap = abs(lr_train_score - lr_test_score).round(3)\n",
    "\n",
    "print(f\"\"\"\n",
    "*  The OLS model gets a  score of 0.72, and a train-test gap minor than 0.05 which indicates not over fitting for the model\n",
    "\"\"\")"
   ]
  },
  {
   "cell_type": "code",
   "execution_count": 19,
   "id": "accepted-depression",
   "metadata": {
    "code_folding": [
     0,
     1
    ]
   },
   "outputs": [
    {
     "name": "stdout",
     "output_type": "stream",
     "text": [
      "('intercept', 1.492)\n",
      "('CROSS SELL SUCCESS', -0.018)\n",
      "('TASTES AND PREFERENCES', 0.013)\n",
      "('MASTER CLASSES ATTENDED', 0.028)\n",
      "('TOTAL MEALS ORDERED', 0.268)\n",
      "('AVERAGE PREPARATION VIDEO TIME', 0.578)\n",
      "('UNIQUE MEALS PURCHASE', -0.167)\n",
      "('PHOTO VIEWED', 0.017)\n",
      "('WITH WEEKLY PLAN', 0.017)\n",
      "('AVERAGE TIME PER SITE VISIT', -0.021)\n",
      "('CONTACTS WITH CUSTOMER SERVICE', 0.142)\n",
      "('MEDIAN MEAL RATING', 0.308)\n",
      "('AVERAGE ORDER SIZE', -0.135)\n",
      "('PRODUCT CATEGORIES VIEWED', 0.011)\n",
      "('JUNK MAIL', -0.007)\n",
      "('PERSONAL MAIL', 0.006)\n",
      "('LARGE ORDER', 0.002)\n",
      "('MEDIUM ORDER', 0.002)\n",
      "('SMALL ORDER', -0.003)\n",
      " \n",
      "* The most important variable is Average Preparation Video Time (highest postivie coeficient 0.578), the more time a user spents watching the instruction cooking videos our costumer is most likely to consume more,  keeping him engage with our services for more time.\n",
      "\n",
      "* We will achieve better results using a KNN regression model\n"
     ]
    }
   ],
   "source": [
    "# zipping each feature name to its coefficient\n",
    "lr_model_values = zip(apprentice_chef[x_variables].columns,\n",
    "                      lr_fit.coef_.round(decimals = 3))\n",
    "\n",
    "\n",
    "# setting up a placeholder list to store model features\n",
    "lr_model_lst = [('intercept', lr_fit.intercept_.round(decimals = 3))]\n",
    "\n",
    "\n",
    "# printing out each feature-coefficient pair one by one\n",
    "for val in lr_model_values:\n",
    "    lr_model_lst.append(val)\n",
    "    \n",
    "\n",
    "# checking the results\n",
    "for pair in lr_model_lst:\n",
    "    print(pair)\n",
    "    \n",
    "    \n",
    "print(f\"\"\" \n",
    "* The most important variable is Average Preparation Video Time (highest postivie coeficient 0.578), the more time a user spents watching the instruction cooking videos our costumer is most likely to consume more,  keeping him engage with our services for more time.\n",
    "\n",
    "* We will achieve better results using a KNN regression model\"\"\")"
   ]
  },
  {
   "cell_type": "markdown",
   "id": "stable-synthetic",
   "metadata": {},
   "source": [
    "<h3>Creating an KNN model</h3><br>"
   ]
  },
  {
   "cell_type": "code",
   "execution_count": 36,
   "id": "suffering-flooring",
   "metadata": {
    "cell_style": "split"
   },
   "outputs": [],
   "source": [
    "\n",
    "KNN_variables=['CROSS SELL SUCCESS',\n",
    "'TASTES AND PREFERENCES', \n",
    "'MASTER CLASSES ATTENDED', \n",
    "'TOTAL MEALS ORDERED', \n",
    "'AVERAGE PREPARATION VIDEO TIME', \n",
    "'UNIQUE MEALS PURCHASE', \n",
    "#'PHOTO VIEWED', \n",
    "#'WITH WEEKLY PLAN',\n",
    "'AVERAGE TIME PER SITE VISIT',\n",
    "'CONTACTS WITH CUSTOMER SERVICE', \n",
    "'MEDIAN MEAL RATING', \n",
    "'AVERAGE ORDER SIZE', \n",
    "#'PRODUCT CATEGORIES VIEWED',\n",
    "'JUNK MAIL',            \n",
    "'PROFESSIONAL MAIL',\n",
    "#'LARGE ORDER',\n",
    "#'MEDIUM ORDER' ,\n",
    "#'SMALL ORDER'\n",
    "]"
   ]
  },
  {
   "cell_type": "code",
   "execution_count": 21,
   "id": "floral-spelling",
   "metadata": {
    "cell_style": "center",
    "code_folding": [
     28
    ]
   },
   "outputs": [
    {
     "data": {
      "image/png": "[encoded data removed]",
      "text/plain": [
       "<Figure size 720x720 with 1 Axes>"
      ]
     },
     "metadata": {
      "needs_background": "light"
     },
     "output_type": "display_data"
    },
    {
     "name": "stdout",
     "output_type": "stream",
     "text": [
      "\n",
      "Our most robust variables are:\n",
      "\n",
      "     a) Total Meals ordered\n",
      "     \n",
      "     b) Average preparation video time\n",
      "     \n",
      "     c) Median Mail Rating\n",
      "     \n",
      "     d) Master Class attended\n"
     ]
    }
   ],
   "source": [
    "KNN_variables_corr=['CROSS SELL SUCCESS',\n",
    "'TASTES AND PREFERENCES', \n",
    "'MASTER CLASSES ATTENDED', \n",
    "'TOTAL MEALS ORDERED', \n",
    "'AVERAGE PREPARATION VIDEO TIME', \n",
    "'UNIQUE MEALS PURCHASE', \n",
    "#'PHOTO VIEWED', \n",
    "#'WITH WEEKLY PLAN',\n",
    "'AVERAGE TIME PER SITE VISIT',\n",
    "'CONTACTS WITH CUSTOMER SERVICE', \n",
    "'MEDIAN MEAL RATING', \n",
    "'AVERAGE ORDER SIZE', \n",
    "#'PRODUCT CATEGORIES VIEWED',\n",
    "'JUNK MAIL',            \n",
    "'PROFESSIONAL MAIL',\n",
    "#'LARGE ORDER',\n",
    "#'MEDIUM ORDER' ,\n",
    "#'SMALL ORDER'\n",
    "'log_REVENUE'                  \n",
    " ]\n",
    "knn_corr_data  = apprentice_chef.loc[ : ,KNN_variables_corr]\n",
    "df_corr_knn = knn_corr_data.corr().round(2)\n",
    "# printing (Pearson) correlations with SalePrice\n",
    "#print(df_corr_knn.loc['log_REVENUE'].sort_values(ascending = False))\n",
    "\n",
    "# setting figure size\n",
    "fig, ax = plt.subplots(figsize=(10,10))\n",
    "# visualizing the correlation matrix\n",
    "sns.heatmap(df_corr_knn,\n",
    "            cmap = 'coolwarm',\n",
    "            square = True,\n",
    "            annot = True,\n",
    "            linecolor = 'black',\n",
    "            linewidths = 0.5,\n",
    "            cbar = False)\n",
    "plt.show()\n",
    "\n",
    "print(f\"\"\"\n",
    "Our most robust variables are:\n",
    "\n",
    "     a) Total Meals ordered\n",
    "     \n",
    "     b) Average preparation video time\n",
    "     \n",
    "     c) Median Mail Rating\n",
    "     \n",
    "     d) Master Class attended\"\"\")"
   ]
  },
  {
   "cell_type": "code",
   "execution_count": 22,
   "id": "accredited-creek",
   "metadata": {
    "cell_style": "split",
    "code_folding": [
     0
    ],
    "collapsed": true
   },
   "outputs": [],
   "source": [
    "# INSTANTIATING a KNN model object\n",
    "#calling libraries\n",
    "\n",
    "from sklearn.neighbors import KNeighborsRegressor # KNN for Regression\n",
    "from sklearn.preprocessing import StandardScaler # standard scaler\n",
    "from sklearn.neighbors import KNeighborsClassifier\n",
    "\n",
    "# INSTANTIATING a StandardScaler() object\n",
    "scaler = StandardScaler()\n",
    "\n",
    "\n",
    "# FITTING the scaler \n",
    "scaler.fit(model_data)\n",
    "\n",
    "\n",
    "# TRANSFORMING our data after fit\n",
    "X_scaled = scaler.transform(model_data)\n",
    "\n",
    "\n",
    "# converting scaled data into a DataFrame\n",
    "X_scaled_df = pd.DataFrame(X_scaled)\n",
    "\n",
    "\n",
    "X_scaled_df.columns = model_data.columns\n",
    "\n",
    "\n",
    "\n",
    "\n",
    "# checking the results and selecting x variables \n",
    "\n",
    "KNN_data  = X_scaled_df.loc[ : ,KNN_variables]\n",
    "\n",
    "\n"
   ]
  },
  {
   "cell_type": "code",
   "execution_count": 23,
   "id": "modular-projector",
   "metadata": {
    "cell_style": "split",
    "code_folding": [
     0
    ],
    "collapsed": true
   },
   "outputs": [],
   "source": [
    "# using standard data \n",
    "X_train_STAND, X_test_STAND, y_train_STAND, y_test_STAND = train_test_split(\n",
    "            KNN_data,\n",
    "            Revenue_log_target,\n",
    "            test_size = 0.25,\n",
    "            random_state = 219)\n"
   ]
  },
  {
   "cell_type": "code",
   "execution_count": 24,
   "id": "flush-carnival",
   "metadata": {
    "cell_style": "split",
    "code_folding": [
     0
    ],
    "collapsed": true
   },
   "outputs": [],
   "source": [
    "# creating lists for training set accuracy and test set accuracy\n",
    "training_accuracy = []\n",
    "test_accuracy = []\n",
    "\n",
    "\n",
    "# building a visualization of 1 to 50 neighbors\n",
    "neighbors_settings = range(1, 21)\n",
    "\n",
    "\n",
    "for n_neighbors in neighbors_settings:\n",
    "    # Building the model\n",
    "    clf = KNeighborsRegressor(n_neighbors = n_neighbors)\n",
    "    clf.fit(X_train_STAND, y_train_STAND)\n",
    "    \n",
    "    # Recording the training set accuracy\n",
    "    training_accuracy.append(clf.score(X_train_STAND, y_train_STAND))\n",
    "    \n",
    "    # Recording the generalization accuracy\n",
    "    test_accuracy.append(clf.score(X_test_STAND, y_test_STAND))\n",
    "\n",
    "\n",
    "# finding the optimal number of neighbors\n",
    "opt_neighbors = test_accuracy.index(max(test_accuracy)) + 1\n"
   ]
  },
  {
   "cell_type": "code",
   "execution_count": 25,
   "id": "earned-cutting",
   "metadata": {
    "cell_style": "center",
    "code_folding": [
     0
    ]
   },
   "outputs": [
    {
     "name": "stdout",
     "output_type": "stream",
     "text": [
      "KNN Training Score: 0.783\n",
      "KNN Testing Score : 0.75\n",
      "KNN Train-Test Gap: 0.033\n",
      "\n",
      "Using a KNN model increases our model score to 0.75, making it more reliable at the moment of predicting future revenue which is our main purpose. Also our train test gap is less than 0.05 which means the model is not over fitting. \n"
     ]
    }
   ],
   "source": [
    "knn_stand = KNeighborsRegressor(algorithm = 'auto',\n",
    "                   n_neighbors =opt_neighbors)\n",
    "\n",
    "\n",
    "\n",
    "# FITTING the model based on the training data\n",
    "knn_stand_fit = knn_stand.fit(X_train_STAND, y_train_STAND)\n",
    "\n",
    "\n",
    "\n",
    "# PREDITCING on new data\n",
    "knn_stand_pred = knn_stand.predict(X_test_STAND)\n",
    "\n",
    "\n",
    "\n",
    "# SCORING the result\n",
    "print('KNN Training Score:', knn_stand.score(X_train_STAND, y_train_STAND).round(3))\n",
    "print('KNN Testing Score :', knn_stand.score(X_test_STAND, y_test_STAND).round(3))\n",
    "\n",
    "\n",
    "# saving scoring data for future use\n",
    "knn_stand_score_train = knn_stand.score(X_train_STAND, y_train_STAND).round(3)\n",
    "knn_stand_score_test  = knn_stand.score(X_test_STAND, y_test_STAND).round(3)\n",
    "\n",
    "\n",
    "# displaying and saving the gap between training and testing\n",
    "print('KNN Train-Test Gap:', abs(knn_stand_score_train - knn_stand_score_test).round(3))\n",
    "knn_stand_test_gap = abs(knn_stand_score_train - knn_stand_score_test).round(3)\n",
    "\n",
    "print(f\"\"\"\n",
    "Using a KNN model increases our model score to 0.75, making it more reliable at the moment of predicting future revenue which is our main purpose. Also our train test gap is less than 0.05 which means the model is not over fitting. \"\"\")"
   ]
  },
  {
   "cell_type": "code",
   "execution_count": 26,
   "id": "complicated-russia",
   "metadata": {
    "code_folding": [
     3
    ]
   },
   "outputs": [
    {
     "data": {
      "image/png": "[encoded data removed]",
      "text/plain": [
       "<Figure size 720x360 with 1 Axes>"
      ]
     },
     "metadata": {
      "needs_background": "light"
     },
     "output_type": "display_data"
    },
    {
     "name": "stdout",
     "output_type": "stream",
     "text": [
      " Predicted Revenue Median :3.26\n",
      " \n",
      "Our model prediction is really close to our real revenue median 3.25\n"
     ]
    }
   ],
   "source": [
    "knn_stand_pred_reg=10**knn_stand_pred\n",
    "\n",
    "# Develop a histogram to analyze the distribution of the Y-variable.\n",
    "sns.displot(data   = knn_stand_pred,\n",
    "           \n",
    "            height = 5,\n",
    "            aspect = 2)\n",
    "\n",
    "\n",
    "\n",
    "plt.title(label   = \"Predicted Distribution of Apprentice Chef Revenue\")\n",
    "plt.xlabel(xlabel = \"Revenue\") # avoiding using dataset labels\n",
    "plt.ylabel(ylabel = \"Count\")\n",
    "\n",
    "# displaying the histogram \n",
    "plt.show()\n",
    "print(f\"\"\" Predicted Revenue Median :{knn_stand_pred.mean().round(2)}\"\"\")\n",
    "\n",
    "print(f\"\"\" \n",
    "Our model prediction is really close to our real revenue median 3.25\"\"\")"
   ]
  },
  {
   "cell_type": "markdown",
   "id": "established-baseball",
   "metadata": {},
   "source": [
    "<h2>Part 2: Classification Model for Cross Selling Success </h2><br>"
   ]
  },
  {
   "cell_type": "code",
   "execution_count": 27,
   "id": "injured-inquiry",
   "metadata": {
    "cell_style": "split",
    "code_folding": [
     2
    ],
    "collapsed": true
   },
   "outputs": [],
   "source": [
    "candidate_dict = {\n",
    "\n",
    "'logit_sig'    : [\n",
    "                    'MOBILE NUMBER',\n",
    "                    'CANCELLATIONS BEFORE NOON',\n",
    "                    'REFRIGERATED LOCKER',\n",
    "                    'TASTES AND PREFERENCES',\n",
    "                    'PC USER LOGINS',\n",
    "                    'EARLY DELIVERIES',\n",
    "                   # 'log_CONTACTS_W_CUSTOMER_SERVICE',\n",
    "                    'JUNK MAIL',\n",
    "                    'MASTER CLASSES ATTENDED',   \n",
    "                    'PROFESSIONAL MAIL',\n",
    "                   # 'log_TOTAL_MEALS_ORDERED'\n",
    "                     'MEDIUM ORDER',\n",
    "                    'SMALL ORDER'              \n",
    "                    ]}\n",
    "\n",
    "\n"
   ]
  },
  {
   "cell_type": "code",
   "execution_count": 28,
   "id": "criminal-tractor",
   "metadata": {
    "cell_style": "split",
    "code_folding": [
     0,
     6
    ],
    "collapsed": true
   },
   "outputs": [],
   "source": [
    "# train/test split with the chossen model\n",
    "cross_selling_data   =  apprentice_chef.loc[ : , candidate_dict['logit_sig']]\n",
    "cross_selling_target =  apprentice_chef.loc[ : ,'CROSS SELL SUCCESS']\n",
    "\n",
    "\n",
    "# train test split \n",
    "X_train, X_test, y_train, y_test = train_test_split(\n",
    "            cross_selling_data,\n",
    "            cross_selling_target,\n",
    "            random_state = 219,\n",
    "            test_size    = 0.25,\n",
    "            stratify     = cross_selling_target)\n",
    "\n"
   ]
  },
  {
   "cell_type": "markdown",
   "id": "naval-investor",
   "metadata": {},
   "source": [
    "<h3>Creating a  Random Forest model</h3><br>"
   ]
  },
  {
   "cell_type": "code",
   "execution_count": 29,
   "id": "greenhouse-finland",
   "metadata": {
    "cell_style": "split",
    "code_folding": [
     1
    ],
    "collapsed": true
   },
   "outputs": [],
   "source": [
    "# INSTANTIATING a random forest model with default valuesyy\n",
    "rf_default = RandomForestClassifier(n_estimators     = 100,\n",
    "                                    criterion        = 'gini',\n",
    "                                    max_depth        = None,\n",
    "                                    min_samples_leaf = 1,\n",
    "                                    bootstrap        = True,\n",
    "                                    warm_start       = False,\n",
    "                                    random_state     = 219)"
   ]
  },
  {
   "cell_type": "code",
   "execution_count": 30,
   "id": "heated-thirty",
   "metadata": {
    "cell_style": "split",
    "code_folding": [
     0
    ],
    "collapsed": true
   },
   "outputs": [],
   "source": [
    "# FITTING the training data\n",
    "rf_default_fit = rf_default.fit(X_train, y_train)\n",
    "\n",
    "\n",
    "# PREDICTING based on the testing set\n",
    "rf_default_fit_pred = rf_default_fit.predict(X_test)\n",
    "\n",
    "\n",
    "\n"
   ]
  },
  {
   "cell_type": "code",
   "execution_count": 31,
   "id": "adapted-lafayette",
   "metadata": {
    "code_folding": [
     0,
     1
    ]
   },
   "outputs": [
    {
     "name": "stdout",
     "output_type": "stream",
     "text": [
      " The most important feature is Early Deliveries follow by cancellations before noon \n"
     ]
    },
    {
     "name": "stderr",
     "output_type": "stream",
     "text": [
      "<ipython-input-2-addc68c46a96>:21: FutureWarning: The pandas.np module is deprecated and will be removed from pandas in a future version. Import numpy directly instead\n",
      "  plt.yticks(pd.np.arange(n_features), train.columns)\n"
     ]
    },
    {
     "data": {
      "image/png": "[encoded data removed]",
      "text/plain": [
       "<Figure size 864x648 with 1 Axes>"
      ]
     },
     "metadata": {
      "needs_background": "light"
     },
     "output_type": "display_data"
    }
   ],
   "source": [
    "# plotting feature importances\n",
    "plot_feature_importances(rf_default_fit,\n",
    "                         train = X_train,\n",
    "                         export = False)\n",
    "\n",
    "\n",
    "print(f\"\"\" The most important feature is Early Deliveries follow by cancellations before noon \"\"\")"
   ]
  },
  {
   "cell_type": "markdown",
   "id": "instructional-basin",
   "metadata": {},
   "source": [
    "<h3>Tuning the Random Forest</h3><br>"
   ]
  },
  {
   "cell_type": "code",
   "execution_count": 32,
   "id": "domestic-dealer",
   "metadata": {
    "code_folding": [
     0
    ]
   },
   "outputs": [
    {
     "name": "stderr",
     "output_type": "stream",
     "text": [
      "<ipython-input-32-00f852164e0c>:10: FutureWarning: The pandas.np module is deprecated and will be removed from pandas in a future version. Import numpy directly instead\n",
      "  estimator_space  = pd.np.arange(100, 1100, 250)\n",
      "<ipython-input-32-00f852164e0c>:11: FutureWarning: The pandas.np module is deprecated and will be removed from pandas in a future version. Import numpy directly instead\n",
      "  leaf_space       = pd.np.arange(1, 31, 10)\n",
      "/opt/anaconda3/lib/python3.8/site-packages/sklearn/model_selection/_search.py:278: UserWarning: The total space of parameters 48 is smaller than n_iter=250. Running 48 iterations. For exhaustive searches, use GridSearchCV.\n",
      "  warnings.warn(\n"
     ]
    },
    {
     "name": "stdout",
     "output_type": "stream",
     "text": [
      "Tuned Parameters  : {'warm_start': True, 'n_estimators': 350, 'min_samples_leaf': 1, 'criterion': 'entropy', 'bootstrap': True}\n",
      "Tuned Training AUC: 0.5982\n"
     ]
    }
   ],
   "source": [
    "# FITTING the training data\n",
    "rf_default_fit = rf_default.fit(X_train, y_train)\n",
    "\n",
    "\n",
    "# PREDICTING based on the testing set\n",
    "rf_default_fit_pred = rf_default_fit.predict(X_test)\n",
    "\n",
    "\n",
    "# declaring a hyperparameter space\n",
    "estimator_space  = pd.np.arange(100, 1100, 250)\n",
    "leaf_space       = pd.np.arange(1, 31, 10)\n",
    "criterion_space  = ['entropy']\n",
    "bootstrap_space  = [True, False]\n",
    "warm_start_space = [True, False]\n",
    "\n",
    "\n",
    "# creating a hyperparameter grid\n",
    "param_grid = {'n_estimators'     : estimator_space,\n",
    "              'min_samples_leaf' : leaf_space,\n",
    "              'criterion'        : criterion_space,\n",
    "              'bootstrap'        : bootstrap_space,\n",
    "              'warm_start'       : warm_start_space}\n",
    "\n",
    "\n",
    "# INSTANTIATING the model object without hyperparameters\n",
    "forest_grid = RandomForestClassifier(random_state = 219)\n",
    "\n",
    "\n",
    "# GridSearchCV object\n",
    "forest_cv = RandomizedSearchCV(estimator           = forest_grid,\n",
    "                               param_distributions = param_grid,\n",
    "                               cv         = 5,\n",
    "                               n_iter     = 250,\n",
    "                               scoring    = make_scorer(roc_auc_score,\n",
    "                                            needs_threshold = False))\n",
    "\n",
    "\n",
    "# FITTING to the FULL DATASET (due to cross-validation)\n",
    "forest_cv.fit(cross_selling_data, cross_selling_target)\n",
    "\n",
    "\n",
    "# PREDICT step is not needed\n",
    "\n",
    "\n",
    "# printing the optimal parameters and best score\n",
    "print(\"Tuned Parameters  :\", forest_cv.best_params_)\n",
    "print(\"Tuned Training AUC:\", forest_cv.best_score_.round(4))"
   ]
  },
  {
   "cell_type": "code",
   "execution_count": 33,
   "id": "owned-tobago",
   "metadata": {
    "cell_style": "split",
    "code_folding": [
     0
    ]
   },
   "outputs": [
    {
     "name": "stdout",
     "output_type": "stream",
     "text": [
      "Forest Tuned Training ACCURACY: 0.885\n",
      "Forest Tuned Testing  ACCURACY: 0.897\n",
      "Forest Tuned AUC Score        : 0.86\n",
      "\n",
      "The AUC Score is: 0.86\n",
      "\n",
      "This is a high realiable score, therefore we can   trust our model to classify correctly our clients  acceptance on cross-sell and avoid over fitting\n",
      "\n"
     ]
    }
   ],
   "source": [
    "# building a model based on hyperparameter tuning results\n",
    "\n",
    "# INSTANTIATING with best_estimator\n",
    "forest_tuned = forest_cv.best_estimator_\n",
    "\n",
    "\n",
    "# FIT step not needed\n",
    "\n",
    "\n",
    "# PREDICTING based on the testing set\n",
    "forest_tuned_pred = forest_tuned.predict(X_test)\n",
    "\n",
    "\n",
    "# SCORING the results\n",
    "print('Forest Tuned Training ACCURACY:', forest_tuned.score(X_train, y_train).round(3))\n",
    "print('Forest Tuned Testing  ACCURACY:', forest_tuned.score(X_test, y_test).round(3))\n",
    "print('Forest Tuned AUC Score        :', roc_auc_score(y_true  = y_test,\n",
    "                                                   y_score = forest_tuned_pred).round(3))\n",
    "\n",
    "\n",
    "# saving scoring data for future use\n",
    "forest_tuned_train_score = forest_tuned.score(X_train, y_train).round(3) # accuracy\n",
    "forest_tuned_test_score  = forest_tuned.score(X_test, y_test).round(3)   # accuracy\n",
    "\n",
    "\n",
    "# saving the AUC score\n",
    "forest_tuned_auc = roc_auc_score(y_true  = y_test,\n",
    "                                 y_score = forest_tuned_pred).round(3) # auc\n",
    "\n",
    "print(f\"\"\"\n",
    "The AUC Score is: {forest_tuned_auc}\n",
    "\n",
    "This is a high realiable score, therefore we can   trust our model to classify correctly our clients  acceptance on cross-sell and avoid over fitting\n",
    "\"\"\")"
   ]
  },
  {
   "cell_type": "code",
   "execution_count": 34,
   "id": "divided-fleet",
   "metadata": {
    "cell_style": "split",
    "code_folding": [
     0
    ],
    "collapsed": true
   },
   "outputs": [],
   "source": [
    "# unpacking the confusion matrix\n",
    "tuned_rf_tn, \\\n",
    "tuned_rf_fp, \\\n",
    "tuned_rf_fn, \\\n",
    "tuned_rf_tp = confusion_matrix(y_true = y_test, y_pred = forest_tuned_pred).ravel()\n"
   ]
  },
  {
   "cell_type": "code",
   "execution_count": 35,
   "id": "sustainable-scoop",
   "metadata": {
    "cell_style": "center",
    "code_folding": [
     0
    ]
   },
   "outputs": [
    {
     "data": {
      "image/png": "[encoded data removed]",
      "text/plain": [
       "<Figure size 432x288 with 2 Axes>"
      ]
     },
     "metadata": {
      "needs_background": "light"
     },
     "output_type": "display_data"
    },
    {
     "name": "stdout",
     "output_type": "stream",
     "text": [
      " \n",
      "Our Model has a small error on False negatives (Accepted the cross-sell offer but was not detected), it is important to keep this value low, since losing one possible client means less revenue  \n"
     ]
    }
   ],
   "source": [
    "# calling the visual_cm function\n",
    "visual_cm(true_y = y_test,\n",
    "          pred_y = forest_tuned_pred,\n",
    "          labels = ['Cross Sell Unsucessful', 'Cross Sell Sucessful'])\n",
    "\n",
    "print(f\"\"\" \n",
    "Our Model has a small error on False negatives (Accepted the cross-sell offer but was not detected), it is important to keep this value low, since losing one possible client means less revenue  \"\"\")"
   ]
  },
  {
   "cell_type": "markdown",
   "id": "metallic-decade",
   "metadata": {},
   "source": [
    "<h2>Conclusion and future actions</h2><br>\n",
    "\n"
   ]
  },
  {
   "cell_type": "markdown",
   "id": "appointed-request",
   "metadata": {},
   "source": [
    "a) Revenue Prediction: Preparation Video Time\n",
    "\n",
    "\n",
    "*    The most significant factor is the time clients spent watching the food preparation videos. Therefore we need to keep them engaged since this reflects on growing revenue.\n",
    "\n",
    "     To increase this factor, we can partner with local chefs or video-food bloggers to renovate our current recipes, sharing some essential \"secrets\" to increase the taste and improve the quality of your \"gourmet\" dish. Do \"live\" videos where our clients can have exclusive access to quick master classes.\n",
    "\n",
    "\n",
    "b) Model Classifier: Early Deliveries \n",
    "\n",
    "* The most significant factor in accepting cross-selling is early deliveries. It is most likely if we increase our efficiency on deliveries, clients will get more products due to an increase in trust in the service. Before noon, cancellations also reflect a familiarity with the product and confidence in an efficient service: easy to order or cancel without any penalties or fees.\n",
    "* As an action to take to increase the number of clients accepting the offer is to increase efficiency on the deliveries and create KPI's to keep track of the operations to encourage early deliveries  .\n",
    "\n",
    "\n"
   ]
  }
 ],
 "metadata": {
  "kernelspec": {
   "display_name": "Python 3",
   "language": "python",
   "name": "python3"
  },
  "language_info": {
   "codemirror_mode": {
    "name": "ipython",
    "version": 3
   },
   "file_extension": ".py",
   "mimetype": "text/x-python",
   "name": "python",
   "nbconvert_exporter": "python",
   "pygments_lexer": "ipython3",
   "version": "3.8.3"
  },
  "toc": {
   "base_numbering": 1,
   "nav_menu": {},
   "number_sections": true,
   "sideBar": true,
   "skip_h1_title": false,
   "title_cell": "Table of Contents",
   "title_sidebar": "Contents",
   "toc_cell": false,
   "toc_position": {},
   "toc_section_display": true,
   "toc_window_display": false
  },
  "varInspector": {
   "cols": {
    "lenName": 16,
    "lenType": 16,
    "lenVar": 40
   },
   "kernels_config": {
    "python": {
     "delete_cmd_postfix": "",
     "delete_cmd_prefix": "del ",
     "library": "var_list.py",
     "varRefreshCmd": "print(var_dic_list())"
    },
    "r": {
     "delete_cmd_postfix": ") ",
     "delete_cmd_prefix": "rm(",
     "library": "var_list.r",
     "varRefreshCmd": "cat(var_dic_list()) "
    }
   },
   "types_to_exclude": [
    "module",
    "function",
    "builtin_function_or_method",
    "instance",
    "_Feature"
   ],
   "window_display": false
  }
 },
 "nbformat": 4,
 "nbformat_minor": 5
}
